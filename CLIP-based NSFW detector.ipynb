{
 "cells": [
  {
   "cell_type": "code",
   "execution_count": null,
   "id": "6f808cf2",
   "metadata": {},
   "outputs": [],
   "source": [
    "!git clone https://github.com/HCA97/CLIP-based-NSFW-Detector\n",
    "!cd CLIP-based-NSFW-Detector\n",
    "!pip install -r requirements.txt"
   ]
  },
  {
   "cell_type": "code",
   "execution_count": 3,
   "id": "027775c8",
   "metadata": {},
   "outputs": [],
   "source": [
    "import torch.nn.functional as F\n",
    "import torch\n",
    "from PIL import Image\n",
    "\n",
    "from src.inference import build_inference_model\n",
    "from src.utils import remove_transparency"
   ]
  },
  {
   "cell_type": "code",
   "execution_count": 4,
   "id": "95e9131e",
   "metadata": {},
   "outputs": [],
   "source": [
    "@torch.no_grad()\n",
    "def predict_single_image_path(img_path, head, backbone, pre_processing):\n",
    "    img = Image.open(img_path)\n",
    "    img = remove_transparency(img)\n",
    "    x = pre_processing(img)\n",
    "    x = x.reshape(1, 3, 224, 224)\n",
    "    p = backbone(x) \n",
    "    p = F.normalize(p)\n",
    "    c = head(p)\n",
    "\n",
    "    print(f'{img_path} is NSFW predictions ({c[0][0]})')"
   ]
  },
  {
   "cell_type": "code",
   "execution_count": 13,
   "id": "f163f12b",
   "metadata": {},
   "outputs": [
    {
     "name": "stdout",
     "output_type": "stream",
     "text": [
      "--2023-05-22 22:22:18--  https://www.damenmode-quelle.de/fotky421/fotos/_vyr_6097Sexy-Push-Up-Bikini-Brasilianisch-Bunt-2.jpg\n",
      "Resolving www.damenmode-quelle.de (www.damenmode-quelle.de)... 2001:1528:114::661c, 81.0.206.116\n",
      "Connecting to www.damenmode-quelle.de (www.damenmode-quelle.de)|2001:1528:114::661c|:443... connected.\n",
      "HTTP request sent, awaiting response... 200 OK\n",
      "Length: 175773 (172K) [image/jpeg]\n",
      "Saving to: ‘test.jpg’\n",
      "\n",
      "test.jpg            100%[===================>] 171,65K  --.-KB/s    in 0,05s   \n",
      "\n",
      "2023-05-22 22:22:18 (3,43 MB/s) - ‘test.jpg’ saved [175773/175773]\n",
      "\n"
     ]
    }
   ],
   "source": [
    "!wget https://www.damenmode-quelle.de/fotky421/fotos/_vyr_6097Sexy-Push-Up-Bikini-Brasilianisch-Bunt-2.jpg -O test.jpg"
   ]
  },
  {
   "cell_type": "markdown",
   "id": "5aef3fde",
   "metadata": {},
   "source": [
    "# ViT-B-32"
   ]
  },
  {
   "cell_type": "code",
   "execution_count": 5,
   "id": "55dc0d26",
   "metadata": {},
   "outputs": [],
   "source": [
    "head, backbone, pre_procesing = build_inference_model('./models/clip_ViT-B-32_openai_binary_nsfw_head.pth', \n",
    "                                                      'ViT-B-32', 'openai')"
   ]
  },
  {
   "cell_type": "code",
   "execution_count": 14,
   "id": "e07dcba7",
   "metadata": {},
   "outputs": [
    {
     "name": "stdout",
     "output_type": "stream",
     "text": [
      "./test.jpg is NSFW predictions (0.9861899614334106)\n"
     ]
    }
   ],
   "source": [
    "predict_single_image_path('./test.jpg', head, backbone, pre_procesing)"
   ]
  },
  {
   "cell_type": "markdown",
   "id": "e9127c42",
   "metadata": {},
   "source": [
    "# ViT-L-14"
   ]
  },
  {
   "cell_type": "code",
   "execution_count": 9,
   "id": "ab4b3d59",
   "metadata": {},
   "outputs": [],
   "source": [
    "head, backbone, pre_procesing = build_inference_model('./models/clip_ViT-L-14_openai_binary_nsfw_head.pth', \n",
    "                                                      'ViT-L-14', 'openai')"
   ]
  },
  {
   "cell_type": "code",
   "execution_count": 15,
   "id": "ad29c54b",
   "metadata": {},
   "outputs": [
    {
     "name": "stdout",
     "output_type": "stream",
     "text": [
      "./test.jpg is NSFW predictions (0.9861899614334106)\n"
     ]
    }
   ],
   "source": [
    "predict_single_image_path('./test.jpg', head, backbone, pre_procesing)"
   ]
  },
  {
   "cell_type": "markdown",
   "id": "f946fcf7",
   "metadata": {},
   "source": [
    "# ViT-H-14"
   ]
  },
  {
   "cell_type": "code",
   "execution_count": 11,
   "id": "6461374c",
   "metadata": {},
   "outputs": [],
   "source": [
    "head, backbone, pre_procesing = build_inference_model('./models/clip_ViT-H-14_laion2b_s32b_b79k_binary_nsfw_head.pth', \n",
    "                                                      'ViT-H-14', 'laion2b_s32b_b79k')"
   ]
  },
  {
   "cell_type": "code",
   "execution_count": 16,
   "id": "ca6e76f4",
   "metadata": {},
   "outputs": [
    {
     "name": "stdout",
     "output_type": "stream",
     "text": [
      "./test.jpg is NSFW predictions (0.9861899614334106)\n"
     ]
    }
   ],
   "source": [
    "predict_single_image_path('./test.jpg', head, backbone, pre_procesing)"
   ]
  },
  {
   "cell_type": "code",
   "execution_count": null,
   "id": "7638223d",
   "metadata": {},
   "outputs": [],
   "source": []
  }
 ],
 "metadata": {
  "kernelspec": {
   "display_name": "Python 3 (ipykernel)",
   "language": "python",
   "name": "python3"
  },
  "language_info": {
   "codemirror_mode": {
    "name": "ipython",
    "version": 3
   },
   "file_extension": ".py",
   "mimetype": "text/x-python",
   "name": "python",
   "nbconvert_exporter": "python",
   "pygments_lexer": "ipython3",
   "version": "3.8.16"
  }
 },
 "nbformat": 4,
 "nbformat_minor": 5
}
