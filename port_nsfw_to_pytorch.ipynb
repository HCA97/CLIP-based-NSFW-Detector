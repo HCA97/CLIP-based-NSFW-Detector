{
 "cells": [
  {
   "cell_type": "code",
   "execution_count": 1,
   "id": "f660c3e7",
   "metadata": {},
   "outputs": [
    {
     "name": "stderr",
     "output_type": "stream",
     "text": [
      "2023-05-11 22:45:23.757578: W tensorflow/stream_executor/platform/default/dso_loader.cc:64] Could not load dynamic library 'libcudart.so.11.0'; dlerror: libcudart.so.11.0: cannot open shared object file: No such file or directory; LD_LIBRARY_PATH: /usr/local/cuda/lib64\n",
      "2023-05-11 22:45:23.757595: I tensorflow/stream_executor/cuda/cudart_stub.cc:29] Ignore above cudart dlerror if you do not have a GPU set up on your machine.\n"
     ]
    }
   ],
   "source": [
    "import numpy as np\n",
    "import autokeras as ak\n",
    "import tensorflow as tf\n",
    "from tensorflow.keras.models import load_model"
   ]
  },
  {
   "cell_type": "code",
   "execution_count": 2,
   "id": "d48c0f10",
   "metadata": {},
   "outputs": [
    {
     "name": "stderr",
     "output_type": "stream",
     "text": [
      "2023-05-11 22:45:52.358871: I tensorflow/stream_executor/cuda/cuda_gpu_executor.cc:936] successful NUMA node read from SysFS had negative value (-1), but there must be at least one NUMA node, so returning NUMA node zero\n",
      "2023-05-11 22:45:52.359114: W tensorflow/stream_executor/platform/default/dso_loader.cc:64] Could not load dynamic library 'libcudart.so.11.0'; dlerror: libcudart.so.11.0: cannot open shared object file: No such file or directory; LD_LIBRARY_PATH: /usr/local/cuda/lib64\n",
      "2023-05-11 22:45:52.359189: W tensorflow/stream_executor/platform/default/dso_loader.cc:64] Could not load dynamic library 'libcublas.so.11'; dlerror: libcublas.so.11: cannot open shared object file: No such file or directory; LD_LIBRARY_PATH: /usr/local/cuda/lib64\n",
      "2023-05-11 22:45:52.359234: W tensorflow/stream_executor/platform/default/dso_loader.cc:64] Could not load dynamic library 'libcublasLt.so.11'; dlerror: libcublasLt.so.11: cannot open shared object file: No such file or directory; LD_LIBRARY_PATH: /usr/local/cuda/lib64\n",
      "2023-05-11 22:45:52.359275: W tensorflow/stream_executor/platform/default/dso_loader.cc:64] Could not load dynamic library 'libcufft.so.10'; dlerror: libcufft.so.10: cannot open shared object file: No such file or directory; LD_LIBRARY_PATH: /usr/local/cuda/lib64\n",
      "2023-05-11 22:45:52.658213: W tensorflow/stream_executor/platform/default/dso_loader.cc:64] Could not load dynamic library 'libcusparse.so.11'; dlerror: libcusparse.so.11: cannot open shared object file: No such file or directory; LD_LIBRARY_PATH: /usr/local/cuda/lib64\n",
      "2023-05-11 22:45:52.659168: W tensorflow/core/common_runtime/gpu/gpu_device.cc:1850] Cannot dlopen some GPU libraries. Please make sure the missing libraries mentioned above are installed properly if you would like to use GPU. Follow the guide at https://www.tensorflow.org/install/gpu for how to download and setup the required libraries for your platform.\n",
      "Skipping registering GPU devices...\n",
      "2023-05-11 22:45:52.660002: I tensorflow/core/platform/cpu_feature_guard.cc:151] This TensorFlow binary is optimized with oneAPI Deep Neural Network Library (oneDNN) to use the following CPU instructions in performance-critical operations:  AVX2 FMA\n",
      "To enable them in other operations, rebuild TensorFlow with the appropriate compiler flags.\n"
     ]
    }
   ],
   "source": [
    "model = load_model('clip_autokeras_nsfw_b32', custom_objects=ak.CUSTOM_OBJECTS)"
   ]
  },
  {
   "cell_type": "code",
   "execution_count": 17,
   "id": "d4720baa",
   "metadata": {},
   "outputs": [
    {
     "data": {
      "text/plain": [
       "0.5"
      ]
     },
     "execution_count": 17,
     "metadata": {},
     "output_type": "execute_result"
    }
   ],
   "source": [
    "model.layers[7].rate"
   ]
  },
  {
   "cell_type": "code",
   "execution_count": 19,
   "id": "51b1a649",
   "metadata": {},
   "outputs": [
    {
     "data": {
      "text/plain": [
       "[<keras.engine.input_layer.InputLayer at 0x7fba444fc610>,\n",
       " <autokeras.keras_layers.MultiCategoryEncoding at 0x7fba444fcd60>,\n",
       " <keras.layers.preprocessing.normalization.Normalization at 0x7fba4151b220>,\n",
       " <keras.layers.core.dense.Dense at 0x7fba4151bbe0>,\n",
       " <keras.layers.advanced_activations.ReLU at 0x7fba414631f0>,\n",
       " <keras.layers.core.dense.Dense at 0x7fba414635e0>,\n",
       " <keras.layers.advanced_activations.ReLU at 0x7fba41463610>,\n",
       " <keras.layers.core.dropout.Dropout at 0x7fba41463e20>,\n",
       " <keras.layers.core.dense.Dense at 0x7fba41597130>,\n",
       " <keras.layers.core.activation.Activation at 0x7fba415977c0>]"
      ]
     },
     "execution_count": 19,
     "metadata": {},
     "output_type": "execute_result"
    }
   ],
   "source": [
    "model.layers"
   ]
  },
  {
   "cell_type": "code",
   "execution_count": 20,
   "id": "ff53c284",
   "metadata": {},
   "outputs": [
    {
     "data": {
      "text/plain": [
       "array([[4.6667284e-12],\n",
       "       [1.4484495e-01],\n",
       "       [3.4860303e-12],\n",
       "       [1.3105124e-02]], dtype=float32)"
      ]
     },
     "execution_count": 20,
     "metadata": {},
     "output_type": "execute_result"
    }
   ],
   "source": [
    "from torch.nn import functional as F\n",
    "import torch\n",
    "from torch import nn\n",
    "\n",
    "torch.manual_seed(8492)\n",
    "embed = F.normalize(torch.randn([4, 512])).numpy()\n",
    "real_model_out = model.predict(embed)\n",
    "real_model_out"
   ]
  },
  {
   "cell_type": "code",
   "execution_count": 21,
   "id": "ccb0d65a",
   "metadata": {},
   "outputs": [
    {
     "name": "stdout",
     "output_type": "stream",
     "text": [
      "2 0 (512,)\n",
      "2 1 (512,)\n",
      "2 2 ()\n",
      "3 0 (512, 32)\n",
      "3 1 (32,)\n",
      "5 0 (32, 32)\n",
      "5 1 (32,)\n",
      "8 0 (32, 1)\n",
      "8 1 (1,)\n"
     ]
    }
   ],
   "source": [
    "for i, layer in enumerate(model.layers):\n",
    "    for j, weight in enumerate(layer.weights):\n",
    "        if hasattr(weight, 'shape'):\n",
    "            print(i, j, weight.shape)"
   ]
  },
  {
   "cell_type": "code",
   "execution_count": 22,
   "id": "e796d552",
   "metadata": {},
   "outputs": [],
   "source": [
    "class Normalization(nn.Module):\n",
    "    def __init__(self, shape):\n",
    "        super().__init__()\n",
    "        self.register_buffer('mean', torch.zeros(shape))\n",
    "        self.register_buffer('variance', torch.ones(shape))\n",
    "\n",
    "    def forward(self, x):\n",
    "        return (x - self.mean) / self.variance.sqrt()\n",
    "    \n",
    "\n",
    "class NSFWModel(nn.Module):\n",
    "    def __init__(self):\n",
    "        super().__init__()\n",
    "        self.norm = Normalization([512])\n",
    "        self.linear_1 = nn.Linear(512, 32)\n",
    "        self.linear_2 = nn.Linear(32, 32)\n",
    "        self.linear_3 = nn.Linear(32, 1)\n",
    "        self.dropout = nn.Dropout(0.5)\n",
    "        self.act = nn.ReLU()\n",
    "        self.act_out = nn.Sigmoid()\n",
    "\n",
    "    def forward(self, x):\n",
    "        x = self.norm(x)\n",
    "        x = self.act(self.linear_1(x))\n",
    "        x = self.dropout(self.act(self.linear_2(x)))\n",
    "        x = self.act_out(self.linear_3(x))\n",
    "        return x"
   ]
  },
  {
   "cell_type": "code",
   "execution_count": 23,
   "id": "b68ba933",
   "metadata": {},
   "outputs": [],
   "source": [
    "pt_model = NSFWModel()"
   ]
  },
  {
   "cell_type": "code",
   "execution_count": 24,
   "id": "7e282a8e",
   "metadata": {},
   "outputs": [
    {
     "data": {
      "text/plain": [
       "odict_keys(['norm.mean', 'norm.variance', 'linear_1.weight', 'linear_1.bias', 'linear_2.weight', 'linear_2.bias', 'linear_3.weight', 'linear_3.bias'])"
      ]
     },
     "execution_count": 24,
     "metadata": {},
     "output_type": "execute_result"
    }
   ],
   "source": [
    "pt_model.state_dict().keys()"
   ]
  },
  {
   "cell_type": "code",
   "execution_count": 26,
   "id": "a8a7067e",
   "metadata": {},
   "outputs": [
    {
     "data": {
      "text/plain": [
       "<All keys matched successfully>"
      ]
     },
     "execution_count": 26,
     "metadata": {},
     "output_type": "execute_result"
    }
   ],
   "source": [
    "from collections import OrderedDict\n",
    "\n",
    "state_dict = OrderedDict()\n",
    "state_dict['norm.mean'] = torch.tensor(model.layers[2].weights[0].numpy())\n",
    "state_dict['norm.variance'] = torch.tensor(model.layers[2].weights[1].numpy())\n",
    "state_dict['linear_1.weight'] = torch.tensor(model.layers[3].weights[0].numpy()).T\n",
    "state_dict['linear_1.bias'] = torch.tensor(model.layers[3].weights[1].numpy())\n",
    "state_dict['linear_2.weight'] = torch.tensor(model.layers[5].weights[0].numpy()).T\n",
    "state_dict['linear_2.bias'] = torch.tensor(model.layers[5].weights[1].numpy())\n",
    "state_dict['linear_3.weight'] = torch.tensor(model.layers[8].weights[0].numpy()).T\n",
    "state_dict['linear_3.bias'] = torch.tensor(model.layers[8].weights[1].numpy())\n",
    "\n",
    "pt_model.load_state_dict(state_dict)"
   ]
  },
  {
   "cell_type": "code",
   "execution_count": 27,
   "id": "2987137b",
   "metadata": {},
   "outputs": [
    {
     "data": {
      "text/plain": [
       "array([[ 1.2043035e-09],\n",
       "       [ 1.5906852e-01],\n",
       "       [-3.4599266e-12],\n",
       "       [-6.2316759e-03]], dtype=float32)"
      ]
     },
     "execution_count": 27,
     "metadata": {},
     "output_type": "execute_result"
    }
   ],
   "source": [
    "pt_model(torch.tensor(embed)).detach().numpy() - real_model_out"
   ]
  },
  {
   "cell_type": "code",
   "execution_count": 28,
   "id": "4b157fac",
   "metadata": {},
   "outputs": [],
   "source": [
    "torch.save(pt_model.state_dict(), 'clip_autokeras_binary_nsfw_b32.pth')"
   ]
  },
  {
   "cell_type": "code",
   "execution_count": null,
   "id": "b78cb1a8",
   "metadata": {},
   "outputs": [],
   "source": []
  }
 ],
 "metadata": {
  "kernelspec": {
   "display_name": "Python 3 (ipykernel)",
   "language": "python",
   "name": "python3"
  },
  "language_info": {
   "codemirror_mode": {
    "name": "ipython",
    "version": 3
   },
   "file_extension": ".py",
   "mimetype": "text/x-python",
   "name": "python",
   "nbconvert_exporter": "python",
   "pygments_lexer": "ipython3",
   "version": "3.8.16"
  }
 },
 "nbformat": 4,
 "nbformat_minor": 5
}
